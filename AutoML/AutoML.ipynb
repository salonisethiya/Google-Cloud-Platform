{
 "cells": [
  {
   "cell_type": "markdown",
   "metadata": {},
   "source": [
    "## Importing necessary libraries"
   ]
  },
  {
   "cell_type": "code",
   "execution_count": 7,
   "metadata": {},
   "outputs": [],
   "source": [
    "import os\n",
    "import matplotlib.pyplot as plt\n",
    "import cv2\n",
    "import argparse\n",
    "import io\n",
    "import json\n",
    "import numpy\n",
    "import six\n",
    "import re\n",
    "from google.cloud import storage\n",
    "import pandas as pd"
   ]
  },
  {
   "cell_type": "markdown",
   "metadata": {},
   "source": [
    "## Setting path to json key"
   ]
  },
  {
   "cell_type": "code",
   "execution_count": 8,
   "metadata": {},
   "outputs": [],
   "source": [
    "os.environ[\"GOOGLE_APPLICATION_CREDENTIALS\"]=\"/home/affine/GCP/downloaded_key.json\""
   ]
  },
  {
   "cell_type": "markdown",
   "metadata": {},
   "source": [
    "- We use AutoML Natural Language to create a custom machine learning model.\n",
    "\n",
    "\n",
    "- We can create a model to :\n",
    "\n",
    "    - classify documents\n",
    "    - identify entities in documents\n",
    "    - analyze the prevailing emotional attitude in a document.\n",
    "    \n",
    "    \n",
    "- To use AutoML Natural Language, enable Enable the Cloud AutoML and Storage APIs.for that project."
   ]
  },
  {
   "cell_type": "markdown",
   "metadata": {},
   "source": [
    "### Model objectives\n",
    "\n",
    "AutoML Natural Language can train custom models for four distinct tasks, known as model objectives:\n",
    "\n",
    "- **Single label classification** classifies documents by assigning a label to them\n",
    "- **Multi-label classification** allows a document to be assigned multiple labels\n",
    "- **Entity extraction** identifies entities in documents\n",
    "- **Sentiment analysis** analyzes attitudes within documents\n"
   ]
  },
  {
   "cell_type": "markdown",
   "metadata": {},
   "source": [
    "### Steps to follow:\n",
    "\n",
    "1) To create a dataset\n",
    "\n",
    "- Open the AutoML Natural Language UI and select Get started in the box corresponding to the type of model you plan to train.\n",
    "- Click the New Dataset button in the title bar.\n",
    "- Enter a name for the dataset and select the model objective that matches the sample dataset you chose.\n",
    "- Leave the Location set to Global.\n",
    "- In the Import text items section, choose Select a CSV file on Cloud Storage, and enter the path to the dataset you want to use into the text box.\n",
    "- If you choose the sentiment dataset, AutoML Natural Language asks for the maximum sentiment value. \n",
    "- Click Create dataset.\n",
    "- You're returned to the Datasets page; your dataset will show an in progress animation while your documents are being imported. This process should take approximately 10 minutes per 1000 documents, but may take more or less time.\n",
    "\n",
    "2) Train your model\n",
    "\n",
    "- After your training data has been successfully imported, select the dataset from the dataset listing page to see the details about the dataset. The name of the selected dataset appears in the title bar, and the page lists the individual documents in the dataset along with their labels.\n",
    "\n",
    "- When you are done reviewing the dataset, click the Train tab just below the title bar.\n",
    "- Click Start Training.\n",
    "- Enter a name for the new model and check the Deploy model after training finishes check box.\n",
    "- Click Start Training.\n",
    "- Training a model can take several hours to complete. \n",
    "- After training, the bottom of the Train page shows high-level metrics for the model, such as precision and recall.\n",
    "\n",
    "3) Use the custom model\n",
    "\n",
    "- After your model has been successfully trained, you can use it to analyze other documents.\n",
    "- Click the Test & Use tab just below the title bar. Enter text in the Input text box or the URL of a PDF or TIFF file in a Cloud Storage bucket, then click Predict.\n",
    "- AutoML Natural Language analyzes the text using your model and displays the annotations."
   ]
  },
  {
   "cell_type": "markdown",
   "metadata": {},
   "source": [
    "## Code for our custom model"
   ]
  },
  {
   "cell_type": "code",
   "execution_count": 36,
   "metadata": {},
   "outputs": [],
   "source": [
    "import sys\n",
    "\n",
    "from google.api_core.client_options import ClientOptions\n",
    "from google.cloud import automl_v1\n",
    "from google.cloud.automl_v1.proto import service_pb2\n",
    "\n",
    "def inline_text_payload(file_path):\n",
    "    with open(file_path, 'rb') as ff:\n",
    "        content = ff.read()\n",
    "    return {'text_snippet': {'content': content, 'mime_type': 'text/plain'} }\n",
    "\n",
    "def pdf_payload(file_path):\n",
    "    return {'document': {'input_config': {'gcs_source': {'input_uris': [file_path] } } } }\n",
    "\n",
    "def get_prediction(file_path, model_name):\n",
    "    options = ClientOptions(api_endpoint='automl.googleapis.com')\n",
    "    prediction_client = automl_v1.PredictionServiceClient(client_options=options)\n",
    "\n",
    "    payload = inline_text_payload(file_path)\n",
    "    print('payload : \\n',payload)\n",
    "    # Uncomment the following line (and comment the above line) if want to predict on PDFs.\n",
    "    # payload = pdf_payload(file_path)\n",
    "\n",
    "    params = {}\n",
    "    request = prediction_client.predict(model_name, payload, params)\n",
    "    return request  # waits until request is returned\n",
    "\n",
    "if __name__ == '__main__':\n",
    "    file_path = sys.argv[1]\n",
    "    model_name = sys.argv[2]"
   ]
  },
  {
   "cell_type": "markdown",
   "metadata": {},
   "source": [
    "### 1) Prediction on custom single label classification model"
   ]
  },
  {
   "cell_type": "markdown",
   "metadata": {},
   "source": [
    "To create a single-label classification model, use the \"happy moments\" dataset derived from the Kaggle open-source dataset HappyDB. The resulting model classifies happy moments into categories reflecting the causes of happiness."
   ]
  },
  {
   "cell_type": "code",
   "execution_count": 29,
   "metadata": {},
   "outputs": [
    {
     "name": "stdout",
     "output_type": "stream",
     "text": [
      "payload : \n",
      " {'text_snippet': {'content': b'I cooked a new dish for dinner than turned out great.\\n', 'mime_type': 'text/plain'}}\n"
     ]
    },
    {
     "data": {
      "text/plain": [
       "payload {\n",
       "  annotation_spec_id: \"4809009872706207744\"\n",
       "  classification {\n",
       "    score: 0.9595863819122314\n",
       "  }\n",
       "  display_name: \"achievement\"\n",
       "}\n",
       "payload {\n",
       "  annotation_spec_id: \"8267774386526748672\"\n",
       "  classification {\n",
       "    score: 0.02703445963561535\n",
       "  }\n",
       "  display_name: \"leisure\"\n",
       "}\n",
       "payload {\n",
       "  annotation_spec_id: \"3656088368099360768\"\n",
       "  classification {\n",
       "    score: 0.01262345165014267\n",
       "  }\n",
       "  display_name: \"enjoy_the_moment\"\n",
       "}\n",
       "payload {\n",
       "  annotation_spec_id: \"1350245358885666816\"\n",
       "  classification {\n",
       "    score: 0.0006985074724070728\n",
       "  }\n",
       "  display_name: \"affection\"\n",
       "}\n",
       "payload {\n",
       "  annotation_spec_id: \"5961931377313054720\"\n",
       "  classification {\n",
       "    score: 3.316345828352496e-05\n",
       "  }\n",
       "  display_name: \"exercise\"\n",
       "}\n",
       "payload {\n",
       "  annotation_spec_id: \"7114852881919901696\"\n",
       "  classification {\n",
       "    score: 2.2405794879887253e-05\n",
       "  }\n",
       "  display_name: \"bonding\"\n",
       "}\n",
       "payload {\n",
       "  annotation_spec_id: \"2503166863492513792\"\n",
       "  classification {\n",
       "    score: 1.5677270539526944e-06\n",
       "  }\n",
       "  display_name: \"nature\"\n",
       "}"
      ]
     },
     "execution_count": 29,
     "metadata": {},
     "output_type": "execute_result"
    }
   ],
   "source": [
    "get_prediction('SL_test1.txt','projects/project-001-285307/locations/us-central1/models/TCN3799597725268312064')"
   ]
  },
  {
   "cell_type": "markdown",
   "metadata": {},
   "source": [
    "### Output:\n",
    "\n",
    "The text \"I cooked a new dish for dinner than turned out great\" belongs to :\n",
    "- achievement class with confidence score of 0.9595\n",
    "- leisure class with confidence score of 0.02703\n",
    "- enjoy_the_moment class with confidence score of 0.0126\n",
    "- affection class with confidence score of 0.0006\n",
    "- exercise class with confidence score of 3.316345828352496e-05\n",
    "- bonding class with confidence score of 2.2405794879887253e-05\n",
    "- nature class with confidence score of 1.5677270539526944e-06\n",
    "\n",
    "Thus the text belongs to **achievement** class"
   ]
  },
  {
   "cell_type": "markdown",
   "metadata": {},
   "source": [
    "### 2) Prediction on custom Sentiment analysis model"
   ]
  },
  {
   "cell_type": "markdown",
   "metadata": {},
   "source": [
    "To create a sentiment analysis model, use the open dataset from FigureEight that analyzes Twitter mentions of the allergy medicine Claritin."
   ]
  },
  {
   "cell_type": "code",
   "execution_count": 30,
   "metadata": {},
   "outputs": [
    {
     "name": "stdout",
     "output_type": "stream",
     "text": [
      "payload : \n",
      " {'text_snippet': {'content': b'\"If she was on a Claritin clear commercial I\\'d buy it\" - Kyle Tyler\\n', 'mime_type': 'text/plain'}}\n"
     ]
    },
    {
     "data": {
      "text/plain": [
       "payload {\n",
       "  text_sentiment {\n",
       "    sentiment: 3\n",
       "  }\n",
       "}\n",
       "metadata {\n",
       "  key: \"sentiment_score\"\n",
       "  value: \"0.32662117\"\n",
       "}"
      ]
     },
     "execution_count": 30,
     "metadata": {},
     "output_type": "execute_result"
    }
   ],
   "source": [
    "get_prediction('SA_test1.txt','projects/project-001-285307/locations/us-central1/models/TST1499947165542252544')"
   ]
  },
  {
   "cell_type": "markdown",
   "metadata": {},
   "source": [
    "### Output:\n",
    "\n",
    "The text \"If she was on a Claritin clear commercial I\\'d buy it\" - Kyle Tyler has sentiment score of 3."
   ]
  },
  {
   "cell_type": "markdown",
   "metadata": {},
   "source": [
    "### 3) Prediction on custom Entity extraction model"
   ]
  },
  {
   "cell_type": "markdown",
   "metadata": {},
   "source": [
    "To create an entity extraction model, use a corpus of biomedical research abstracts that mention hundreds of diseases and concepts. The resulting model identifies these medical entities in other documents."
   ]
  },
  {
   "cell_type": "code",
   "execution_count": 32,
   "metadata": {},
   "outputs": [
    {
     "name": "stdout",
     "output_type": "stream",
     "text": [
      "payload : \n",
      " {'text_snippet': {'content': b'2390095\\tTotal deficiency of plasma cholesteryl ester transfer protein in subjects homozygous and heterozygous for the intron 14 splicing defect.\\tThe molecular basis of cholesteryl ester transfer protein ( CETP ) deficiency was investigated in 4 unrelated CETP-deficient families . The high density lipoprotein-cholesterol levels of the probands exceeded 150 mg / dl . The plasma of the probands was totally deficient in CETP activity and mass . The genomic DNA of the patients was amplified by polymerase chain reaction , using two oligonucleotide primers located in the intron 12 and 14 of the CETP gene , and the amplified products were directly sequenced . Two patients were homozygous for a G-to-A change at the 5-splice donor site of the intron 14 . The G-to-A change would cause impaired splicing of pre-messenger RNA . The other two probands were heterozygous for the mutation , but totally lacked CETP . Their lipoprotein patterns were also similar to those of the two homozygotes . Thus , other genetic defects or metabolic factors influencing CETP expression are implicated . The data suggest that the G-to-A mutation may be common in human plasma CETP deficiency . Furthermore , there could be compound heterozygotes who totally lack plasma CETP and have lipoprotein profiles similar to those of homozygotes . . \\n', 'mime_type': 'text/plain'}}\n"
     ]
    },
    {
     "data": {
      "text/plain": [
       "payload {\n",
       "  annotation_spec_id: \"8185302218350526464\"\n",
       "  display_name: \"SpecificDisease\"\n",
       "  text_extraction {\n",
       "    score: 0.9990716576576233\n",
       "    text_segment {\n",
       "      start_offset: 168\n",
       "      end_offset: 222\n",
       "      content: \"cholesteryl ester transfer protein ( CETP ) deficiency\"\n",
       "    }\n",
       "  }\n",
       "}\n",
       "payload {\n",
       "  annotation_spec_id: \"2997155447619715072\"\n",
       "  display_name: \"Modifier\"\n",
       "  text_extraction {\n",
       "    score: 0.9969088435173035\n",
       "    text_segment {\n",
       "      start_offset: 255\n",
       "      end_offset: 269\n",
       "      content: \"CETP-deficient\"\n",
       "    }\n",
       "  }\n",
       "}\n",
       "payload {\n",
       "  annotation_spec_id: \"5302998456833409024\"\n",
       "  display_name: \"DiseaseClass\"\n",
       "  text_extraction {\n",
       "    score: 0.9987812638282776\n",
       "    text_segment {\n",
       "      start_offset: 1004\n",
       "      end_offset: 1019\n",
       "      content: \"genetic defects\"\n",
       "    }\n",
       "  }\n",
       "}\n",
       "payload {\n",
       "  annotation_spec_id: \"8185302218350526464\"\n",
       "  display_name: \"SpecificDisease\"\n",
       "  text_extraction {\n",
       "    score: 0.9991596937179565\n",
       "    text_segment {\n",
       "      start_offset: 1158\n",
       "      end_offset: 1173\n",
       "      content: \"CETP deficiency\"\n",
       "    }\n",
       "  }\n",
       "}"
      ]
     },
     "execution_count": 32,
     "metadata": {},
     "output_type": "execute_result"
    }
   ],
   "source": [
    "get_prediction('EE_test1.txt','projects/project-001-285307/locations/us-central1/models/TEN512532947241271296')"
   ]
  },
  {
   "cell_type": "markdown",
   "metadata": {},
   "source": [
    "### Output:\n",
    "\n",
    "In the above text:\n",
    "\n",
    "- content: \"cholesteryl ester transfer protein ( CETP ) deficiency\" belongs to entity \"SpecificDisease\" with score: 0.9990\n",
    "\n",
    "- content: \"CETP-deficient\" belongs to entity \"Modifier\" with score: 0.9969\n",
    "\n",
    "-  content: \"genetic defects\" belongs to entity \"DiseaseClass\" with score: 0.9987\n",
    "\n",
    "- content: \"CETP deficiency\" belongs to entity \"SpecificDisease\" with score: 0.99915"
   ]
  }
 ],
 "metadata": {
  "kernelspec": {
   "display_name": "Python 3",
   "language": "python",
   "name": "python3"
  },
  "language_info": {
   "codemirror_mode": {
    "name": "ipython",
    "version": 3
   },
   "file_extension": ".py",
   "mimetype": "text/x-python",
   "name": "python",
   "nbconvert_exporter": "python",
   "pygments_lexer": "ipython3",
   "version": "3.6.9"
  }
 },
 "nbformat": 4,
 "nbformat_minor": 4
}
